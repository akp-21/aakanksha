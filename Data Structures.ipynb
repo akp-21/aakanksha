{
 "cells": [
  {
   "cell_type": "markdown",
   "metadata": {},
   "source": [
    "## linear search"
   ]
  },
  {
   "cell_type": "code",
   "execution_count": 2,
   "metadata": {},
   "outputs": [
    {
     "name": "stdout",
     "output_type": "stream",
     "text": [
      "Target item found\n"
     ]
    }
   ],
   "source": [
    "def linearsearch(a,tarItem):\n",
    "    flag=0;\n",
    "    for i in range(len(a)):\n",
    "        if a[i]==tarItem:\n",
    "            flag=1;\n",
    "            break;\n",
    "    if (flag!=0):\n",
    "        print(\"Target item found\");\n",
    "    else:\n",
    "        print(\"Target item not found\");\n",
    "        \n",
    "a=[16,2,12,6,9,7,1]\n",
    "linearsearch(a,16)\n",
    "    "
   ]
  },
  {
   "cell_type": "code",
   "execution_count": 9,
   "metadata": {},
   "outputs": [
    {
     "name": "stdout",
     "output_type": "stream",
     "text": [
      "2\n"
     ]
    }
   ],
   "source": [
    "def linearsearchDuplicate(a,tarItem):\n",
    "        flag=0\n",
    "        for i in range(len(a)):\n",
    "             if (a[i]==tarItem):\n",
    "                flag=flag+1\n",
    "        print(flag);\n",
    "    \n",
    "a= [9,1,6,1,5,9,15,16]\n",
    "linearsearchDuplicate(a,9)"
   ]
  },
  {
   "cell_type": "code",
   "execution_count": 6,
   "metadata": {},
   "outputs": [
    {
     "name": "stdout",
     "output_type": "stream",
     "text": [
      "1 4 7 "
     ]
    }
   ],
   "source": [
    "def linearExample1(a,taritem):\n",
    "    for i in range(len(a)):\n",
    "        if a[i]== taritem:\n",
    "            print(i,end=\" \")\n",
    "            \n",
    "a=[1,5,9,6,5,15,12,5]\n",
    "linearExample1(a,5)"
   ]
  },
  {
   "cell_type": "markdown",
   "metadata": {},
   "source": [
    "### [1,5,9,6,5,15,12,5]tar=5-!! !!!! !!!!!!!"
   ]
  },
  {
   "cell_type": "code",
   "execution_count": 1,
   "metadata": {},
   "outputs": [
    {
     "name": "stdout",
     "output_type": "stream",
     "text": [
      "!  ! ! ! !  ! ! ! ! ! ! !  "
     ]
    }
   ],
   "source": [
    "def linear(a,tar):\n",
    "    for i in range(len(a)):\n",
    "        if a[i]==tar:\n",
    "            j=0;\n",
    "            while(j!=i):\n",
    "                print(\"!\",end=\" \");\n",
    "                j=j+1;\n",
    "            print(end=\" \")\n",
    "            \n",
    "a=[1,5,9,6,5,15,12,5]\n",
    "linear(a,5)\n",
    "        "
   ]
  },
  {
   "cell_type": "markdown",
   "metadata": {},
   "source": [
    "## example 5"
   ]
  },
  {
   "cell_type": "markdown",
   "metadata": {},
   "source": [
    "### list should contain perfect multiples of 3 and 5"
   ]
  },
  {
   "cell_type": "code",
   "execution_count": 4,
   "metadata": {},
   "outputs": [
    {
     "name": "stdout",
     "output_type": "stream",
     "text": [
      "60\n"
     ]
    }
   ],
   "source": [
    "  def linear(a):\n",
    "        sum=0;\n",
    "        for i in range(len(a)):\n",
    "            if((a[i]%3==0) and (a[i]%5==0)):\n",
    "                sum=sum+a[i];\n",
    "                i=i+1;\n",
    "                \n",
    "        print(sum);\n",
    "        return sum;\n",
    "\n",
    "a=[15,12,2,9,18,36,45]\n",
    "linear(a);"
   ]
  },
  {
   "cell_type": "code",
   "execution_count": 5,
   "metadata": {},
   "outputs": [
    {
     "name": "stdout",
     "output_type": "stream",
     "text": [
      "1  3  8  15  5  "
     ]
    }
   ],
   "source": [
    "def linearformattedop(a):\n",
    "    for i in range(len(a)):\n",
    "        if((i==0) or (i==(len(a)-1))):\n",
    "            print(a[i],end=\"  \");\n",
    "        else:\n",
    "            print(a[i-1]*a[i+1],end=\"  \");\n",
    "            \n",
    "a=[1,2,3,4,5]\n",
    "linearformattedop(a);"
   ]
  },
  {
   "cell_type": "code",
   "execution_count": 2,
   "metadata": {},
   "outputs": [
    {
     "name": "stdout",
     "output_type": "stream",
     "text": [
      "1  9  19  22  "
     ]
    }
   ],
   "source": [
    "def linear(a):\n",
    "    for i in range(len(a)):\n",
    "        if i==0 or (i==len(a)-1):\n",
    "            print(a[i],end=\"  \");\n",
    "        elif (a[i-1]%2==0) and (a[i+1]%2==0):\n",
    "            print(a[i],end=\"  \");\n",
    " \n",
    "\n",
    "a=[1,6,9,4,16,19,22];\n",
    "linear(a);"
   ]
  },
  {
   "cell_type": "code",
   "execution_count": 1,
   "metadata": {},
   "outputs": [
    {
     "name": "stdout",
     "output_type": "stream",
     "text": [
      "enter no: 14569\n",
      "[1, 4, 5, 6, 9]\n"
     ]
    }
   ],
   "source": [
    "def noToListConversion(n):\n",
    "    list=[]\n",
    "    while(n!=0):\n",
    "        r=n%10\n",
    "        list.append(r)\n",
    "        n=n//10\n",
    "    list.reverse()\n",
    "    print(list)\n",
    "    \n",
    "n=int(input(\"enter no: \"))\n",
    "noToListConversion(n)\n"
   ]
  },
  {
   "cell_type": "markdown",
   "metadata": {},
   "source": [
    "## list to number conversions"
   ]
  },
  {
   "cell_type": "markdown",
   "metadata": {},
   "source": [
    "### [1,4,5,6,9] -- 14569"
   ]
  },
  {
   "cell_type": "code",
   "execution_count": null,
   "metadata": {},
   "outputs": [],
   "source": [
    "def listTonoConversion(n):\n",
    "    list=[]\n",
    "    while\n",
    "        \n",
    "        "
   ]
  }
 ],
 "metadata": {
  "kernelspec": {
   "display_name": "Python 3",
   "language": "python",
   "name": "python3"
  },
  "language_info": {
   "codemirror_mode": {
    "name": "ipython",
    "version": 3
   },
   "file_extension": ".py",
   "mimetype": "text/x-python",
   "name": "python",
   "nbconvert_exporter": "python",
   "pygments_lexer": "ipython3",
   "version": "3.7.3"
  }
 },
 "nbformat": 4,
 "nbformat_minor": 2
}
