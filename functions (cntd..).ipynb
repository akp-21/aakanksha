{
 "cells": [
  {
   "cell_type": "code",
   "execution_count": 3,
   "metadata": {},
   "outputs": [
    {
     "ename": "IndentationError",
     "evalue": "unindent does not match any outer indentation level (<tokenize>, line 7)",
     "output_type": "error",
     "traceback": [
      "\u001b[1;36m  File \u001b[1;32m\"<tokenize>\"\u001b[1;36m, line \u001b[1;32m7\u001b[0m\n\u001b[1;33m    cnt=cnt+1;\u001b[0m\n\u001b[1;37m    ^\u001b[0m\n\u001b[1;31mIndentationError\u001b[0m\u001b[1;31m:\u001b[0m unindent does not match any outer indentation level\n"
     ]
    }
   ],
   "source": [
    "def printEven(n):\n",
    "    cnt=0;\n",
    "    sum=0;\n",
    "    while(cnt!=0):\n",
    "         if(cnt%2==0):\n",
    "                 sum=sum+cnt;\n",
    "                                        \n",
    "       \n",
    "         return sum;\n",
    "    print(printEven(20));\n",
    "    \n",
    "   \n",
    "           \n",
    "       \n",
    "\n",
    "    "
   ]
  },
  {
   "cell_type": "markdown",
   "metadata": {},
   "source": [
    "## factorial of the given no."
   ]
  },
  {
   "cell_type": "code",
   "execution_count": 6,
   "metadata": {},
   "outputs": [
    {
     "name": "stdout",
     "output_type": "stream",
     "text": [
      "1 2 3 4 6 "
     ]
    }
   ],
   "source": [
    "def factorsList(n):\n",
    "    i=1;\n",
    "    while(i!=n):\n",
    "        if(n%i==0):\n",
    "            print(i,end=\" \");\n",
    "        i=i+1;\n",
    "    return;\n",
    "\n",
    "factorsList(12);"
   ]
  },
  {
   "cell_type": "markdown",
   "metadata": {},
   "source": [
    "## list example 1"
   ]
  },
  {
   "cell_type": "code",
   "execution_count": 2,
   "metadata": {},
   "outputs": [
    {
     "name": "stdout",
     "output_type": "stream",
     "text": [
      "[1, 2, 3, 4, 5]\n",
      "1\n"
     ]
    }
   ],
   "source": [
    "list1=[1,2,3,4,5];\n",
    "#Entire list\n",
    "print(list1);\n",
    "#list[0]\n",
    "print(list1[0]);"
   ]
  },
  {
   "cell_type": "markdown",
   "metadata": {},
   "source": [
    "## list example 2"
   ]
  },
  {
   "cell_type": "code",
   "execution_count": 3,
   "metadata": {},
   "outputs": [
    {
     "name": "stdout",
     "output_type": "stream",
     "text": [
      "Akhil Arvind Anil Akash "
     ]
    }
   ],
   "source": [
    "list2 = [\"Akhil\",\"Arvind\",\"Anil\",\"Akash\",];\n",
    "for x in list2:\n",
    "    print(x,end=\" \");"
   ]
  },
  {
   "cell_type": "markdown",
   "metadata": {},
   "source": [
    "## list example with particular (slicing)\n"
   ]
  },
  {
   "cell_type": "code",
   "execution_count": 9,
   "metadata": {},
   "outputs": [
    {
     "name": "stdout",
     "output_type": "stream",
     "text": [
      "1 2 3 4 5 6 7 \n",
      "5\n",
      "[4, 5, 6, 7]\n",
      "[1, 2, 3]\n",
      "[1, 2, 3]\n",
      "[1, 2, 3, 4, 5, 6, 7]\n"
     ]
    }
   ],
   "source": [
    "lst1 = [1,2,3,4,5,6,7];\n",
    "for x in lst1:\n",
    "    print(x,end=\" \")\n",
    "    \n",
    "print();\n",
    "print(lst1[4]);\n",
    "print(lst1[3:7]);\n",
    "print(lst1[0:3]);\n",
    "print(lst1[:3]);\n",
    "print(lst1[:7]);\n",
    "    "
   ]
  },
  {
   "cell_type": "markdown",
   "metadata": {},
   "source": [
    "## slicing example 2"
   ]
  },
  {
   "cell_type": "code",
   "execution_count": 3,
   "metadata": {},
   "outputs": [
    {
     "name": "stdout",
     "output_type": "stream",
     "text": [
      "1 2 3 4 5 6 7 8 9 10 \n",
      "[2, 3, 4, 5, 6, 7, 8, 9]\n",
      "[3, 4, 5, 6, 7, 8]\n",
      "[4, 5, 6, 7]\n",
      "[1, 3, 5, 7, 9]\n",
      "[1, 4, 7, 10]\n",
      "[1, 5, 9]\n",
      "[10, 8, 6, 4, 2]\n",
      "[10, 7, 4, 1]\n",
      "10\n",
      "9\n"
     ]
    }
   ],
   "source": [
    "list1 = [1,2,3,4,5,6,7,8,9,10];\n",
    "for x in list1:\n",
    "    print(x,end = \" \")\n",
    "    \n",
    "print();\n",
    "print(list1[1:-1]);\n",
    "print(list1[2:-2]);\n",
    "print(list1[3:-3]);\n",
    "print(list1[::2]);\n",
    "print(list1[::3]);\n",
    "print(list1[::4]);\n",
    "print(list1[::-2]);\n",
    "print(list1[::-3]);\n",
    "print(list1[-1]);\n",
    "print(list1[-2]);\n"
   ]
  },
  {
   "cell_type": "code",
   "execution_count": 4,
   "metadata": {},
   "outputs": [
    {
     "name": "stdout",
     "output_type": "stream",
     "text": [
      "['Anil', 'Adarsh', 'Akhil', 1]\n",
      "['Anil', 'Adarsh', 15, 1]\n",
      "['Anil', 'Adarsh', 15]\n",
      "['Anil', 'GITAM', 15]\n",
      "[1, 2, 3]\n",
      "['Anil', 'GITAM', 15, 1, 2, 3]\n"
     ]
    }
   ],
   "source": [
    "list1 = [\"Anil\",\"Adarsh\",\"Akhil\",1];\n",
    "print(list1);\n",
    "\n",
    "list1[2] = 15;\n",
    "print(list1);\n",
    "\n",
    "del list1[3];\n",
    "print(list1);\n",
    "\n",
    "list1[1]=\"GITAM\";\n",
    "print(list1);\n",
    "\n",
    "list2 = [1,2,3];\n",
    "\n",
    "print(list2);\n",
    "\n",
    "print(list1+list2);"
   ]
  },
  {
   "cell_type": "markdown",
   "metadata": {},
   "source": [
    "##  append and count method"
   ]
  },
  {
   "cell_type": "code",
   "execution_count": 2,
   "metadata": {},
   "outputs": [
    {
     "name": "stdout",
     "output_type": "stream",
     "text": [
      "[1, 2, 3, 4, 5]\n",
      "[1, 2, 4, 5]\n",
      "4\n",
      "[1, 2, 4, 5, 15, 150, 1, 3]\n",
      "2\n",
      "1\n"
     ]
    }
   ],
   "source": [
    "lst1=[1,2,3,4,5];\n",
    "print(lst1);\n",
    "del lst1[2];\n",
    "print(lst1);\n",
    "#lst1[4]=15;\n",
    "print(len(lst1));\n",
    "lst1.append(15);\n",
    "lst1.append(150);\n",
    "lst1.append(1);\n",
    "lst1.append(3);\n",
    "print(lst1);\n",
    "print(lst1.count(1));\n",
    "print(lst1.count(3));\n"
   ]
  },
  {
   "cell_type": "markdown",
   "metadata": {},
   "source": [
    "##  insert method"
   ]
  },
  {
   "cell_type": "code",
   "execution_count": 8,
   "metadata": {},
   "outputs": [
    {
     "name": "stdout",
     "output_type": "stream",
     "text": [
      "['gitam', 'python', 'raptor', 'python', 1, 5, 'python']\n",
      "2\n",
      "4\n",
      "7\n",
      "['gitam', 'python', 2019, 'raptor', 'python', 1, 5, 'python']\n",
      "8\n",
      "['gitam', 'python', 2019, 'raptor', 2020, 'python', 1, 5, 'python']\n"
     ]
    }
   ],
   "source": [
    "list1 = [\"gitam\",\"python\",\"raptor\",\"python\",1,5,\"python\"];\n",
    "print(list1);\n",
    "print(list1.index(\"raptor\"));\n",
    "print(list1.index(1));\n",
    "print(len(list1));\n",
    "list1.insert(2,2019);\n",
    "print(list1);\n",
    "print(len(list1));\n",
    "list1.insert(4,2020);\n",
    "print (list1)"
   ]
  },
  {
   "cell_type": "markdown",
   "metadata": {},
   "source": [
    "## remove method"
   ]
  },
  {
   "cell_type": "code",
   "execution_count": 6,
   "metadata": {},
   "outputs": [
    {
     "name": "stdout",
     "output_type": "stream",
     "text": [
      "['gitam', 'python', 'raptor', 'python', 1, 5, 'python']\n",
      "['gitam', 'raptor', 'python', 1, 5, 'python']\n",
      "['gitam', 'raptor', 1, 5, 'python']\n"
     ]
    }
   ],
   "source": [
    "list1 = [\"gitam\",\"python\",\"raptor\",\"python\",1,5,\"python\"];\n",
    "print(list1);\n",
    "list1.remove(\"python\");\n",
    "print(list1);\n",
    "list1.remove(\"python\");\n",
    "print(list1);"
   ]
  },
  {
   "cell_type": "markdown",
   "metadata": {},
   "source": [
    "## reverse method"
   ]
  },
  {
   "cell_type": "code",
   "execution_count": 7,
   "metadata": {},
   "outputs": [
    {
     "name": "stdout",
     "output_type": "stream",
     "text": [
      "['gitam', 'python', 'raptor', 'python', 1, 5, 'python']\n",
      "['gitam', 'raptor', 'python', 1, 5, 'python']\n",
      "['gitam', 'raptor', 1, 5, 'python']\n",
      "['python', 5, 1, 'raptor', 'gitam']\n"
     ]
    }
   ],
   "source": [
    "list1 = [\"gitam\",\"python\",\"raptor\",\"python\",1,5,\"python\"];\n",
    "print(list1);\n",
    "list1.remove(\"python\");\n",
    "print(list1);\n",
    "list1.remove(\"python\");\n",
    "print(list1);\n",
    "list1.reverse()\n",
    "print(list1)"
   ]
  },
  {
   "cell_type": "markdown",
   "metadata": {},
   "source": []
  },
  {
   "cell_type": "code",
   "execution_count": 3,
   "metadata": {},
   "outputs": [
    {
     "name": "stdout",
     "output_type": "stream",
     "text": [
      "Target item not found\n"
     ]
    }
   ],
   "source": []
  },
  {
   "cell_type": "code",
   "execution_count": null,
   "metadata": {},
   "outputs": [],
   "source": []
  }
 ],
 "metadata": {
  "kernelspec": {
   "display_name": "Python 3",
   "language": "python",
   "name": "python3"
  },
  "language_info": {
   "codemirror_mode": {
    "name": "ipython",
    "version": 3
   },
   "file_extension": ".py",
   "mimetype": "text/x-python",
   "name": "python",
   "nbconvert_exporter": "python",
   "pygments_lexer": "ipython3",
   "version": "3.7.3"
  }
 },
 "nbformat": 4,
 "nbformat_minor": 2
}
